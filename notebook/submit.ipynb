{
 "cells": [
  {
   "cell_type": "code",
   "execution_count": 14,
   "metadata": {},
   "outputs": [],
   "source": [
    "from joblib import load\n",
    "\n",
    "cv = load('../model/cv.pkl')\n",
    "model = load('../model/nb.pkl')\n",
    "bc = load('../model/bc.pkl')"
   ]
  },
  {
   "cell_type": "code",
   "execution_count": 15,
   "metadata": {},
   "outputs": [],
   "source": [
    "# set file path\n",
    "filepath = '../data/'\n",
    "trainfile = 'test.csv'"
   ]
  },
  {
   "cell_type": "code",
   "execution_count": 16,
   "metadata": {},
   "outputs": [],
   "source": [
    "# read train.csv\n",
    "import pandas as pd\n",
    "df = pd.read_csv(filepath+trainfile)\n",
    "df = df.sample(df.shape[0])"
   ]
  },
  {
   "cell_type": "code",
   "execution_count": 17,
   "metadata": {},
   "outputs": [],
   "source": [
    "from nltk.corpus import stopwords\n",
    "from nltk import word_tokenize\n",
    "from nltk.stem import WordNetLemmatizer\n",
    "import re\n",
    "\n",
    "def preprocess(docs):\n",
    "    def format_text(text):\n",
    "        text=re.sub(r'https?://[\\w/:%#\\$&\\?\\(\\)~\\.=\\+\\-…]+', '', text)\n",
    "        text=re.sub('RT', '', text)\n",
    "        text=re.sub(r'[!-/?:@]', '', text)#半角記号,数字,英字\n",
    "        text=re.sub(r'[︰-＠]', '', text)#全角記号\n",
    "        text=re.sub('\\n', ' ', text)#改行文字\n",
    "        return text\n",
    " \n",
    "    stopwords_set = set(stopwords.words('english'))\n",
    "    wordnet_lemmatizer = WordNetLemmatizer()\n",
    "    \n",
    "    docs = [format_text(text) for text in docs]\n",
    "    docs = [[word for word in word_tokenize(text) if word not in stopwords_set] for text in docs]\n",
    "    docs = [' '.join([wordnet_lemmatizer.lemmatize(word.lower()) for word in doc]) for doc in docs]\n",
    "    docs = bc.fit_transform(docs)\n",
    "    \n",
    "    return cv.transform(docs)"
   ]
  },
  {
   "cell_type": "code",
   "execution_count": 18,
   "metadata": {},
   "outputs": [
    {
     "name": "stderr",
     "output_type": "stream",
     "text": [
      "100%|██████████| 3263/3263 [00:00<00:00, 13724.17it/s]\n",
      "100%|██████████| 3263/3263 [00:00<00:00, 13900.56it/s]\n"
     ]
    }
   ],
   "source": [
    "X_test = preprocess(df.text.values.tolist())\n",
    "pred = model.predict(X_test)"
   ]
  },
  {
   "cell_type": "markdown",
   "metadata": {},
   "source": [
    "```\n",
    "id,target\n",
    "0,0\n",
    "2,0\n",
    "3,1\n",
    "9,0\n",
    "11,0\n",
    "```"
   ]
  },
  {
   "cell_type": "code",
   "execution_count": 19,
   "metadata": {},
   "outputs": [
    {
     "data": {
      "text/plain": [
       "0    2297\n",
       "1     966\n",
       "Name: target, dtype: int64"
      ]
     },
     "execution_count": 19,
     "metadata": {},
     "output_type": "execute_result"
    }
   ],
   "source": [
    "df = pd.DataFrame({'id': df.id.values, 'target': pred})\n",
    "df.target.value_counts()"
   ]
  },
  {
   "cell_type": "code",
   "execution_count": 20,
   "metadata": {},
   "outputs": [],
   "source": [
    "df.to_csv('../output/submit.csv', index=None)"
   ]
  },
  {
   "cell_type": "code",
   "execution_count": null,
   "metadata": {},
   "outputs": [],
   "source": []
  }
 ],
 "metadata": {
  "kernelspec": {
   "display_name": "Python 3",
   "language": "python",
   "name": "python3"
  },
  "language_info": {
   "codemirror_mode": {
    "name": "ipython",
    "version": 3
   },
   "file_extension": ".py",
   "mimetype": "text/x-python",
   "name": "python",
   "nbconvert_exporter": "python",
   "pygments_lexer": "ipython3",
   "version": "3.8.0"
  }
 },
 "nbformat": 4,
 "nbformat_minor": 4
}
