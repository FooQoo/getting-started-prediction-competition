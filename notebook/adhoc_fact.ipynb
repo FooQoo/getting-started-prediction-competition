{
 "cells": [
  {
   "cell_type": "code",
   "execution_count": 12,
   "metadata": {},
   "outputs": [],
   "source": [
    "import pandas as pd\n",
    "import numpy as np\n",
    "import scipy.stats as stats\n",
    "import matplotlib.pyplot as plt\n",
    "\n",
    "def sort_latio_pos(path):\n",
    "    df = pd.read_csv(path)\n",
    "    print(df[np.fabs(df.latio_pos-0.5) >= 0.2].sort_values('latio_pos', ascending=False)[:30])\n",
    "    \n",
    "def plot_latio_pos(path):\n",
    "    df = pd.read_csv(path)\n",
    "    print(df[df.latio_pos].latio_pos.plot(kind='hist', bins=100))\n",
    "\n",
    "def print_statics(path):\n",
    "    df = pd.read_csv(path)\n",
    "    print(df.latio_pos.describe())\n",
    "\n",
    "def print_qqplot(path):\n",
    "    df = pd.read_csv(path)\n",
    "    print(stats.probplot(df.latio_pos.values, dist=\"norm\", plot=plt))"
   ]
  },
  {
   "cell_type": "code",
   "execution_count": 13,
   "metadata": {},
   "outputs": [
    {
     "name": "stdout",
     "output_type": "stream",
     "text": [
      "            term  neg  pos  neg_and_pos  latio_pos\n",
      "2459      bomber    1   61           62   0.983871\n",
      "3401   hiroshima    1   60           61   0.983607\n",
      "3273    malaysia    1   46           47   0.978723\n",
      "3638       spill    1   41           42   0.976190\n",
      "359      suspect    1   36           37   0.972973\n",
      "2488     bombing    2   70           72   0.972222\n",
      "2199       saudi    1   35           36   0.972222\n",
      "3342     rescuer    1   34           35   0.971429\n",
      "789     affected    1   32           33   0.969697\n",
      "3702     reunion    1   31           32   0.968750\n",
      "2592      killed    3   92           95   0.968421\n",
      "1354  california    3   88           91   0.967033\n",
      "3228     typhoon    1   29           30   0.966667\n",
      "278       atomic    2   56           58   0.965517\n",
      "2551         sue    1   27           28   0.964286\n",
      "1579    wildfire    2   54           56   0.964286\n",
      "2177    declares    1   26           27   0.962963\n",
      "2634  helicopter    1   24           25   0.960000\n",
      "216         crew    1   24           25   0.960000\n",
      "608      warning    2   48           50   0.960000\n",
      "3699   swallowed    1   24           25   0.960000\n",
      "1341         pm:    1   23           24   0.958333\n",
      "430    searching    1   23           24   0.958333\n",
      "3474    aircraft    1   22           23   0.956522\n",
      "1096      expert    1   21           22   0.954545\n",
      "3582      crisis    1   20           21   0.952381\n",
      "110          #??    1   19           20   0.950000\n",
      "1913          70    2   38           40   0.950000\n",
      "899     soudelor    1   18           19   0.947368\n",
      "2482       mount    1   18           19   0.947368\n"
     ]
    }
   ],
   "source": [
    "sort_latio_pos('../fact/words.csv')"
   ]
  },
  {
   "cell_type": "code",
   "execution_count": 14,
   "metadata": {},
   "outputs": [
    {
     "name": "stdout",
     "output_type": "stream",
     "text": [
      "                  term  neg  pos  neg_and_pos  latio_pos\n",
      "11532        for-obama    1   85           86   0.988372\n",
      "4590    bomber-suicide    1   68           69   0.985507\n",
      "14332       atomic-the    1   67           68   0.985294\n",
      "28464      a-swallowed    1   48           49   0.979592\n",
      "29395  anniversary-the    1   46           47   0.978723\n",
      "282       declares-for    1   44           45   0.977778\n",
      "30829        oil-spill    1   42           43   0.976744\n",
      "19375         boy-with    1   42           43   0.976744\n",
      "8418          fatal-of    1   41           42   0.976190\n",
      "5158      the-wildfire    1   40           41   0.975610\n",
      "17961   anniversary-of    1   39           40   0.975000\n",
      "8947            --home    1   37           38   0.973684\n",
      "1199        in-suicide    2   73           75   0.973333\n",
      "11614        japan-the    1   36           37   0.972973\n",
      "3586           in-kill    1   36           37   0.972973\n",
      "12722          by-home    1   32           33   0.969697\n",
      "24078      affected-to    1   30           31   0.967742\n",
      "30985          70-year    1   30           31   0.967742\n",
      "32876           a-boat    1   29           30   0.966667\n",
      "15909           sue-to    1   29           30   0.966667\n",
      "10248       home-razed    1   29           30   0.966667\n",
      "31052        in-killed    3   85           88   0.965909\n",
      "11014      affected-of    1   28           29   0.965517\n",
      "10767          old-who    1   28           29   0.965517\n",
      "387           oil-than    1   28           29   0.965517\n",
      "8341       affected-by    1   27           28   0.964286\n",
      "24372        by-family    2   53           55   0.963636\n",
      "18425       spill-than    1   26           27   0.962963\n",
      "22849      family-over    2   51           53   0.962264\n",
      "23211        more-over    1   25           26   0.961538\n"
     ]
    }
   ],
   "source": [
    "sort_latio_pos('../fact/biterms.csv')"
   ]
  },
  {
   "cell_type": "code",
   "execution_count": 16,
   "metadata": {},
   "outputs": [
    {
     "name": "stdout",
     "output_type": "stream",
     "text": [
      "count    4118.000000\n",
      "mean        0.458798\n",
      "std         0.201141\n",
      "min         0.025641\n",
      "25%         0.333333\n",
      "50%         0.500000\n",
      "75%         0.583333\n",
      "max         0.983871\n",
      "Name: latio_pos, dtype: float64\n",
      "AxesSubplot(0.125,0.125;0.775x0.755)\n"
     ]
    },
    {
     "data": {
      "image/png": "[encoded data removed]",
      "text/plain": [
       "<Figure size 432x288 with 1 Axes>"
      ]
     },
     "metadata": {
      "needs_background": "light"
     },
     "output_type": "display_data"
    }
   ],
   "source": [
    "print_statics('../fact/words.csv')\n",
    "plot_latio_pos('../fact/words.csv')"
   ]
  },
  {
   "cell_type": "code",
   "execution_count": 17,
   "metadata": {},
   "outputs": [
    {
     "name": "stdout",
     "output_type": "stream",
     "text": [
      "((array([-3.58535941, -3.34694581, -3.21538398, ...,  3.21538398,\n",
      "        3.34694581,  3.58535941]), array([0.02564103, 0.02941176, 0.03448276, ..., 0.9787234 , 0.98360656,\n",
      "       0.98387097])), (0.19850384097966384, 0.45879778802611854, 0.9862230898123308))\n"
     ]
    },
    {
     "data": {
      "image/png": "[encoded data removed]",
      "text/plain": [
       "<Figure size 432x288 with 1 Axes>"
      ]
     },
     "metadata": {
      "needs_background": "light"
     },
     "output_type": "display_data"
    }
   ],
   "source": [
    "print_qqplot('../fact/words.csv')"
   ]
  },
  {
   "cell_type": "code",
   "execution_count": 18,
   "metadata": {},
   "outputs": [
    {
     "name": "stdout",
     "output_type": "stream",
     "text": [
      "count    34406.000000\n",
      "mean         0.443598\n",
      "std          0.184953\n",
      "min          0.022727\n",
      "25%          0.333333\n",
      "50%          0.500000\n",
      "75%          0.500000\n",
      "max          0.988372\n",
      "Name: latio_pos, dtype: float64\n"
     ]
    },
    {
     "data": {
      "text/plain": [
       "<matplotlib.axes._subplots.AxesSubplot at 0x1161d61c0>"
      ]
     },
     "execution_count": 18,
     "metadata": {},
     "output_type": "execute_result"
    },
    {
     "data": {
      "image/png": "[encoded data removed]",
      "text/plain": [
       "<Figure size 432x288 with 1 Axes>"
      ]
     },
     "metadata": {
      "needs_background": "light"
     },
     "output_type": "display_data"
    }
   ],
   "source": [
    "print_statics('../fact/biterms.csv')\n",
    "plot_latio_pos('../fact/biterms.csv')"
   ]
  },
  {
   "cell_type": "code",
   "execution_count": 18,
   "metadata": {},
   "outputs": [
    {
     "name": "stdout",
     "output_type": "stream",
     "text": [
      "((array([-4.10579987, -3.89598195, -3.78142939, ...,  3.78142939,\n",
      "        3.89598195,  4.10579987]), array([0.02272727, 0.02564103, 0.02631579, ..., 0.98529412, 0.98550725,\n",
      "       0.98837209])), (0.1813936690450433, 0.44359783113845896, 0.9806555883136742))\n"
     ]
    },
    {
     "data": {
      "image/png": "[encoded data removed]",
      "text/plain": [
       "<Figure size 432x288 with 1 Axes>"
      ]
     },
     "metadata": {
      "needs_background": "light"
     },
     "output_type": "display_data"
    }
   ],
   "source": [
    "print_qqplot('../fact/biterms.csv')"
   ]
  },
  {
   "cell_type": "markdown",
   "metadata": {},
   "source": [
    "## 考察\n",
    "- word vs biterm\n",
    "- どちらも正規分布に近い\n",
    "    - 裾野が異なる"
   ]
  },
  {
   "cell_type": "code",
   "execution_count": null,
   "metadata": {},
   "outputs": [],
   "source": []
  }
 ],
 "metadata": {
  "kernelspec": {
   "display_name": "Python 3",
   "language": "python",
   "name": "python3"
  },
  "language_info": {
   "codemirror_mode": {
    "name": "ipython",
    "version": 3
   },
   "file_extension": ".py",
   "mimetype": "text/x-python",
   "name": "python",
   "nbconvert_exporter": "python",
   "pygments_lexer": "ipython3",
   "version": "3.8.0"
  }
 },
 "nbformat": 4,
 "nbformat_minor": 4
}
